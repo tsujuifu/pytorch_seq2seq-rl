{
 "cells": [
  {
   "cell_type": "code",
   "execution_count": 15,
   "metadata": {},
   "outputs": [
    {
     "data": {
      "application/vnd.jupyter.widget-view+json": {
       "model_id": "4a5fadac35d146fda26293dd7c503097",
       "version_major": 2,
       "version_minor": 0
      },
      "text/plain": [
       "HBox(children=(IntProgress(value=0, max=20000), HTML(value='')))"
      ]
     },
     "metadata": {},
     "output_type": "display_data"
    },
    {
     "name": "stdout",
     "output_type": "stream",
     "text": [
      "\n"
     ]
    },
    {
     "data": {
      "application/vnd.jupyter.widget-view+json": {
       "model_id": "11eefdb5a88448adb3860e90f3ceb19a",
       "version_major": 2,
       "version_minor": 0
      },
      "text/plain": [
       "HBox(children=(IntProgress(value=0, max=1000), HTML(value='')))"
      ]
     },
     "metadata": {},
     "output_type": "display_data"
    },
    {
     "name": "stdout",
     "output_type": "stream",
     "text": [
      "\n"
     ]
    },
    {
     "data": {
      "application/vnd.jupyter.widget-view+json": {
       "model_id": "e66f6ea75e5541a3a263a73791cca889",
       "version_major": 2,
       "version_minor": 0
      },
      "text/plain": [
       "HBox(children=(IntProgress(value=0, max=2000), HTML(value='')))"
      ]
     },
     "metadata": {},
     "output_type": "display_data"
    },
    {
     "name": "stdout",
     "output_type": "stream",
     "text": [
      "\n"
     ]
    }
   ],
   "source": [
    "from tqdm import tqdm_notebook as tqdm\n",
    "import numpy as np\n",
    "\n",
    "def gen(num, VOCAB=10, LEN=15):\n",
    "    dat = []\n",
    "    \n",
    "    START = VOCAB\n",
    "    END = VOCAB+1\n",
    "    \n",
    "    for _ in tqdm(range(num)):\n",
    "        l = np.random.randint(LEN-1)+1\n",
    "        \n",
    "        inp = [np.random.randint(VOCAB) for _ in range(l)]\n",
    "        inp += [END for _ in range(LEN-len(inp))]\n",
    "        \n",
    "        rev = inp[:l]\n",
    "        rev.reverse()\n",
    "        \n",
    "        dec_inp = [START]+rev\n",
    "        dec_inp += [END for _ in range(LEN-len(dec_inp))]\n",
    "        \n",
    "        dec_out = rev\n",
    "        dec_out += [END for _ in range(LEN-len(dec_out))]\n",
    "        \n",
    "        dat.append([inp, dec_inp, dec_out])\n",
    "    \n",
    "    return dat\n",
    "\n",
    "tr = gen(num=20000)\n",
    "vl = gen(num=1000)\n",
    "ts = gen(num=2000)"
   ]
  },
  {
   "cell_type": "code",
   "execution_count": 17,
   "metadata": {},
   "outputs": [],
   "source": [
    "import pickle\n",
    "\n",
    "pickle.dump(tr, open('tr.pkl', 'wb'))\n",
    "pickle.dump(vl, open('vl.pkl', 'wb'))\n",
    "pickle.dump(ts, open('ts.pkl', 'wb'))"
   ]
  },
  {
   "cell_type": "code",
   "execution_count": 18,
   "metadata": {},
   "outputs": [
    {
     "name": "stdout",
     "output_type": "stream",
     "text": [
      "[[3, 5, 5, 6, 0, 11, 11, 11, 11, 11, 11, 11, 11, 11, 11], [10, 0, 6, 5, 5, 3, 11, 11, 11, 11, 11, 11, 11, 11, 11], [0, 6, 5, 5, 3, 11, 11, 11, 11, 11, 11, 11, 11, 11, 11]]\n",
      "[[2, 11, 11, 11, 11, 11, 11, 11, 11, 11, 11, 11, 11, 11, 11], [10, 2, 11, 11, 11, 11, 11, 11, 11, 11, 11, 11, 11, 11, 11], [2, 11, 11, 11, 11, 11, 11, 11, 11, 11, 11, 11, 11, 11, 11]]\n",
      "[[8, 3, 6, 4, 8, 0, 6, 0, 2, 1, 4, 5, 3, 11, 11], [10, 3, 5, 4, 1, 2, 0, 6, 0, 8, 4, 6, 3, 8, 11], [3, 5, 4, 1, 2, 0, 6, 0, 8, 4, 6, 3, 8, 11, 11]]\n"
     ]
    }
   ],
   "source": [
    "print(tr[10])\n",
    "print(vl[11])\n",
    "print(ts[12])"
   ]
  }
 ],
 "metadata": {
  "kernelspec": {
   "display_name": "Python 3",
   "language": "python",
   "name": "python3"
  },
  "language_info": {
   "codemirror_mode": {
    "name": "ipython",
    "version": 3
   },
   "file_extension": ".py",
   "mimetype": "text/x-python",
   "name": "python",
   "nbconvert_exporter": "python",
   "pygments_lexer": "ipython3",
   "version": "3.7.1"
  }
 },
 "nbformat": 4,
 "nbformat_minor": 2
}
